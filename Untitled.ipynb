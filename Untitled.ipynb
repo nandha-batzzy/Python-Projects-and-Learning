{
 "cells": [
  {
   "cell_type": "code",
   "execution_count": 1,
   "metadata": {},
   "outputs": [
    {
     "name": "stdout",
     "output_type": "stream",
     "text": [
      "oiddm\n"
     ]
    }
   ],
   "source": [
    "words = [\"k\",\"lg\",\"it\",\"oidd\",\"oid\",\"oiddm\",\"kfk\",\"y\",\"mw\",\"kf\",\"l\",\"o\",\"mwaqz\",\"oi\",\"ych\",\"m\",\"mwa\"]\n",
    "result = []\n",
    "k= \"\"\n",
    "for word in words:\n",
    "    i = len(word)-1\n",
    "    flag = 1\n",
    "    while i>=1:\n",
    "        if word[:i] not in words:\n",
    "            flag = 0\n",
    "            break\n",
    "        i -=1\n",
    "    if flag:\n",
    "        if (len(word) > len(k)) or (len(word) == len(k) and word < k):\n",
    "            k = word\n",
    "print(k)\n",
    "    \n",
    "    \n",
    "    \n",
    "        "
   ]
  },
  {
   "cell_type": "code",
   "execution_count": 107,
   "metadata": {},
   "outputs": [
    {
     "data": {
      "text/plain": [
       "1"
      ]
     },
     "execution_count": 107,
     "metadata": {},
     "output_type": "execute_result"
    }
   ],
   "source": [
    "g = [1,2,3]\n",
    "s =[3]\n",
    "s.sort()\n",
    "g.sort()\n",
    "i = 0\n",
    "j = 0\n",
    "while j<len(s) and i<len(g):\n",
    "    if s[j] >= g[i]: \n",
    "        i = i+1\n",
    "    j = j+1\n",
    "    \n",
    "i                    "
   ]
  },
  {
   "cell_type": "code",
   "execution_count": 72,
   "metadata": {},
   "outputs": [
    {
     "name": "stdout",
     "output_type": "stream",
     "text": [
      "[7, 1, 6, 2, 5, 3, 4]\n"
     ]
    }
   ],
   "source": [
    "arr =  [7, 1, 2, 3, 4, 5, 6]\n",
    "i = 0 \n",
    "la = len(arr)\n",
    "for i in range(1, la):\n",
    "    j = 0\n",
    "    while j<i:\n",
    "        if j%2 == 0 and arr[j] < arr[i]:\n",
    "            temp = arr[i]\n",
    "            arr[i] = arr[j]\n",
    "            arr[j] = temp\n",
    "        elif j%2 != 0 and arr[j] > arr[i]:\n",
    "            temp = arr[i]\n",
    "            arr[i] = arr[j]\n",
    "            arr[j] = temp\n",
    "        j = j+1\n",
    "print(arr)"
   ]
  },
  {
   "cell_type": "code",
   "execution_count": 74,
   "metadata": {},
   "outputs": [
    {
     "name": "stdout",
     "output_type": "stream",
     "text": [
      "7 1 6 2 5 3 4\n"
     ]
    }
   ],
   "source": [
    "arr.sort()\n",
    "i = 0\n",
    "j = la-1\n",
    "while i<j:\n",
    "    print(arr[j], end=\" \")\n",
    "    print(arr[i], end=\" \")\n",
    "    j = j-1\n",
    "    i = i+1\n",
    "if la%2 != 0:\n",
    "    print(arr[i])\n",
    "\n"
   ]
  },
  {
   "cell_type": "code",
   "execution_count": 116,
   "metadata": {},
   "outputs": [
    {
     "data": {
      "text/plain": [
       "[10, 9, 8, 6, 5, 3, 2]"
      ]
     },
     "execution_count": 116,
     "metadata": {},
     "output_type": "execute_result"
    }
   ],
   "source": [
    "a = [6, 5, 3, 2, 8, 10, 9]\n",
    "for i in range(0, len(a)):\n",
    "    j = 0\n",
    "    while j < i:\n",
    "        if a[j] < a[i]:\n",
    "            temp = a[j]\n",
    "            a[j] = a[i]\n",
    "            a[i] = temp\n",
    "        j = j+1\n",
    "a"
   ]
  },
  {
   "cell_type": "code",
   "execution_count": 128,
   "metadata": {},
   "outputs": [
    {
     "ename": "TypeError",
     "evalue": "'str' object does not support item assignment",
     "output_type": "error",
     "traceback": [
      "\u001b[1;31m---------------------------------------------------------------------------\u001b[0m",
      "\u001b[1;31mTypeError\u001b[0m                                 Traceback (most recent call last)",
      "\u001b[1;32m<ipython-input-128-db70ce000395>\u001b[0m in \u001b[0;36m<module>\u001b[1;34m\u001b[0m\n\u001b[0;32m      6\u001b[0m     \u001b[1;32mif\u001b[0m \u001b[1;33m(\u001b[0m\u001b[0mi\u001b[0m\u001b[1;33m+\u001b[0m\u001b[1;36m1\u001b[0m\u001b[1;33m)\u001b[0m\u001b[1;33m>\u001b[0m\u001b[0mi\u001b[0m\u001b[1;33m:\u001b[0m\u001b[1;33m\u001b[0m\u001b[1;33m\u001b[0m\u001b[0m\n\u001b[0;32m      7\u001b[0m         \u001b[0mt\u001b[0m \u001b[1;33m=\u001b[0m \u001b[0mA\u001b[0m\u001b[1;33m[\u001b[0m\u001b[0mi\u001b[0m\u001b[1;33m]\u001b[0m\u001b[1;33m\u001b[0m\u001b[1;33m\u001b[0m\u001b[0m\n\u001b[1;32m----> 8\u001b[1;33m         \u001b[0mA\u001b[0m\u001b[1;33m[\u001b[0m\u001b[0mi\u001b[0m\u001b[1;33m]\u001b[0m \u001b[1;33m=\u001b[0m \u001b[0mA\u001b[0m\u001b[1;33m[\u001b[0m\u001b[0mi\u001b[0m\u001b[1;33m+\u001b[0m\u001b[1;36m1\u001b[0m\u001b[1;33m]\u001b[0m\u001b[1;33m\u001b[0m\u001b[1;33m\u001b[0m\u001b[0m\n\u001b[0m\u001b[0;32m      9\u001b[0m         \u001b[0mA\u001b[0m\u001b[1;33m[\u001b[0m\u001b[0mj\u001b[0m\u001b[1;33m]\u001b[0m \u001b[1;33m=\u001b[0m \u001b[0mt\u001b[0m\u001b[1;33m\u001b[0m\u001b[1;33m\u001b[0m\u001b[0m\n\u001b[0;32m     10\u001b[0m \u001b[0mA\u001b[0m\u001b[1;33m\u001b[0m\u001b[1;33m\u001b[0m\u001b[0m\n",
      "\u001b[1;31mTypeError\u001b[0m: 'str' object does not support item assignment"
     ]
    }
   ],
   "source": [
    "A ='abcde'\n",
    "B = 'cdeab'\n",
    "t = \"\"\n",
    "for i in range(len(A)-1):\n",
    "    j = i+1\n",
    "    if (i+1)>i:\n",
    "        t = A[i]\n",
    "        A[i] = A[i+1]\n",
    "        A[j] = t\n",
    "A\n",
    "        \n",
    "    "
   ]
  },
  {
   "cell_type": "code",
   "execution_count": 3,
   "metadata": {},
   "outputs": [],
   "source": [
    "\n",
    "\n",
    "def check(low,high,strn):\n",
    "    while low<=high:\n",
    "        if strn[low] != strn[high]:\n",
    "            return False\n",
    "            low = low+1\n",
    "            high = high-1\n",
    "    return True\n",
    "\n",
    "def parfun(alll,cur,start,n):\n",
    "    \n",
    "    if start >= n:\n",
    "        n = cur.copy()\n",
    "        alll.append(n)\n",
    "    for i in range(start,n):\n",
    "        if check(start,n):\n",
    "            cur.append(strn[start:i+1])\n",
    "            parfun(alll,cur,i+1,n)\n",
    "            cur.pop()\n",
    "def allPalPartitions(strn):\n",
    "    strn = \"geeks\"\n",
    "    n = len(strn)\n",
    "    alll = [] \n",
    "    cur = [] \n",
    "    parfun(alll, cur, 0, n, strn) \n",
    "    for i in range(len(alll)): \n",
    "        for j in range(len(alll[i])): \n",
    "            print(alll[i][j], end = \" \") \n",
    "        print() \n",
    "        \n",
    "            "
   ]
  },
  {
   "cell_type": "code",
   "execution_count": null,
   "metadata": {},
   "outputs": [],
   "source": []
  }
 ],
 "metadata": {
  "kernelspec": {
   "display_name": "Python 3",
   "language": "python",
   "name": "python3"
  },
  "language_info": {
   "codemirror_mode": {
    "name": "ipython",
    "version": 3
   },
   "file_extension": ".py",
   "mimetype": "text/x-python",
   "name": "python",
   "nbconvert_exporter": "python",
   "pygments_lexer": "ipython3",
   "version": "3.8.5"
  }
 },
 "nbformat": 4,
 "nbformat_minor": 4
}
